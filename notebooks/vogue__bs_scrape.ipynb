{
  "cells": [
    {
      "cell_type": "code",
      "source": [
        "from google.colab import drive\n",
        "drive.mount('/content/drive')"
      ],
      "metadata": {
        "colab": {
          "base_uri": "https://localhost:8080/"
        },
        "id": "zwvmLoXRnRnj",
        "outputId": "db4da520-812a-4edd-efbe-cc6cf4d6d321"
      },
      "execution_count": null,
      "outputs": [
        {
          "output_type": "stream",
          "name": "stdout",
          "text": [
            "Mounted at /content/drive\n"
          ]
        }
      ]
    },
    {
      "cell_type": "code",
      "source": [
        "!pip install requests"
      ],
      "metadata": {
        "colab": {
          "base_uri": "https://localhost:8080/"
        },
        "id": "pIm2NxgZpWjG",
        "outputId": "4899def0-bca6-4a6b-cf73-7d3d7c73ea8b"
      },
      "execution_count": null,
      "outputs": [
        {
          "output_type": "stream",
          "name": "stdout",
          "text": [
            "Requirement already satisfied: requests in /usr/local/lib/python3.10/dist-packages (2.31.0)\n",
            "Requirement already satisfied: charset-normalizer<4,>=2 in /usr/local/lib/python3.10/dist-packages (from requests) (3.2.0)\n",
            "Requirement already satisfied: idna<4,>=2.5 in /usr/local/lib/python3.10/dist-packages (from requests) (3.4)\n",
            "Requirement already satisfied: urllib3<3,>=1.21.1 in /usr/local/lib/python3.10/dist-packages (from requests) (2.0.4)\n",
            "Requirement already satisfied: certifi>=2017.4.17 in /usr/local/lib/python3.10/dist-packages (from requests) (2023.7.22)\n"
          ]
        }
      ]
    },
    {
      "cell_type": "code",
      "execution_count": null,
      "metadata": {
        "id": "h1zu8t_nJQKZ"
      },
      "outputs": [],
      "source": [
        "# Import the necessary libraries to webscrape the publications\n",
        "import requests\n",
        "from bs4 import BeautifulSoup as soup\n",
        "import json\n",
        "import os"
      ]
    },
    {
      "cell_type": "markdown",
      "source": [
        "##Main Page URL"
      ],
      "metadata": {
        "id": "DiIS3RX-xP1q"
      }
    },
    {
      "cell_type": "code",
      "execution_count": null,
      "metadata": {
        "id": "SHNvY3a0JUV8"
      },
      "outputs": [],
      "source": [
        "url = \"https://www.vogue.in/fashion\"\n",
        "html_page = requests.get(url).content\n",
        "soup_page = soup(html_page, \"html\")\n"
      ]
    },
    {
      "cell_type": "markdown",
      "source": [
        "##Extracting all the links"
      ],
      "metadata": {
        "id": "-6lXwoN2xVi4"
      }
    },
    {
      "cell_type": "code",
      "execution_count": null,
      "metadata": {
        "id": "-CY4fa8QJlUf",
        "colab": {
          "base_uri": "https://localhost:8080/"
        },
        "outputId": "cab7c6e0-ad7c-4f4e-d0ad-05089be2d276"
      },
      "outputs": [
        {
          "output_type": "execute_result",
          "data": {
            "text/plain": [
              "[<a class=\"BaseWrap-sc-gjQpdd BaseText-ewhhUZ BaseLink-eNWuiM BasePageSkipLink-beYbvG iUEiRd hHRAkO cDOurZ gtHYlq\" data-testid=\"BasePageSkipLink\" href=\"#main-content\">Skip to main content</a>,\n",
              " <a href=\"/account/saved\">View saved stories</a>,\n",
              " <a class=\"StackedNavigationLogoLink-byNqXP dmvHfj\" data-testid=\"Logo\" href=\"/\"><picture class=\"ResponsiveImagePicture-cWuUZO dUOtEa responsive-image\"><img alt=\"Vogue India\" class=\"ResponsiveImageContainer-eybHBd fptoWY responsive-image__image\" sizes=\"100vw\" src=\"/verso/static/vogue/assets/in/logo.svg\" srcset=\"\"/></picture></a>,\n",
              " <a class=\"BaseButton-bLlsy ButtonWrapper-xCepQ cRxydS bUYEAT button button--utility StackedNavigationSearch-lFFwq feGD\" data-event-click='{\"element\":\"Button\",\"outgoingURL\":\"/search\"}' data-testid=\"Button\" href=\"/search\" type=\"\"><span class=\"ButtonLabel-cjAuJN bBWXSg button__label\">Search</span><div class=\"ButtonIconWrapper-gFdzAL bPDyTT button__icon-container\"><svg class=\"ButtonIcon-YqaGo iwlhuX button-icon icon icon-search\" data-testid=\"iconSearch\" focusable=\"false\" height=\"32\" viewbox=\"0 0 32 32\" width=\"32\" xmlns=\"http://www.w3.org/2000/svg\"><title>Search</title><path d=\"M14.5 10a4.5 4.5 0 1 0 0 9 4.5 4.5 0 0 0 0-9zm5.249 8.335l4.458 4.458-1.414 1.414-4.458-4.458a6.5 6.5 0 1 1 1.414-1.414z\" fill-rule=\"nonzero\"></path></svg></div></a>,\n",
              " <a class=\"NavigationInternalLink-cWEaeo knabMb navigation__link navigation__link--active\" data-testid=\"navigation__internal-link\" href=\"/fashion\" role=\"link\">Fashion</a>,\n",
              " <a class=\"NavigationInternalLink-cWEaeo knabMb navigation__link\" data-testid=\"navigation__internal-link\" href=\"/beauty\" role=\"link\">Beauty</a>,\n",
              " <a class=\"NavigationInternalLink-cWEaeo knabMb navigation__link\" data-testid=\"navigation__internal-link\" href=\"/vogue-closet/\" role=\"link\">Vogue Closet</a>,\n",
              " <a class=\"NavigationInternalLink-cWEaeo knabMb navigation__link\" data-testid=\"navigation__internal-link\" href=\"/culture-and-living\" role=\"link\">Culture</a>,\n",
              " <a class=\"NavigationInternalLink-cWEaeo knabMb navigation__link\" data-testid=\"navigation__internal-link\" href=\"/horoscope/\" role=\"link\">Horoscope</a>,\n",
              " <a class=\"NavigationInternalLink-cWEaeo knabMb navigation__link\" data-testid=\"navigation__internal-link\" href=\"https://www.vogue.in/wedding-wardrobe/\" role=\"link\">Wedding Wardrobe</a>,\n",
              " <a class=\"NavigationInternalLink-cWEaeo knabMb navigation__link\" data-testid=\"navigation__internal-link\" href=\"/video/\" role=\"link\">Video</a>,\n",
              " <a href=\"/account/saved\">View saved stories</a>,\n",
              " <a class=\"StackedNavigationLogoLink-byNqXP dmvHfj\" href=\"/\"><picture class=\"ResponsiveImagePicture-cWuUZO dUOtEa responsive-image\"><img alt=\"Vogue India\" class=\"ResponsiveImageContainer-eybHBd fptoWY responsive-image__image\" sizes=\"100vw\" src=\"/verso/static/vogue/assets/in/logo-header.svg\" srcset=\"\"/></picture></a>,\n",
              " <a class=\"BaseWrap-sc-gjQpdd BaseText-ewhhUZ BaseLink-eNWuiM NavLink-pAjkY iUEiRd hHRAkO LetjB cRLLKv\" data-testid=\"ScrollingNavigationLink\" href=\"/fashion\" role=\"link\" tabindex=\"0\"><span>All Topics</span></a>,\n",
              " <a class=\"BaseWrap-sc-gjQpdd BaseText-ewhhUZ BaseLink-eNWuiM NavLink-pAjkY iUEiRd hHRAkO LetjB ePXfkO\" data-testid=\"ScrollingNavigationLink\" href=\"/fashion/fashion-trends\" role=\"link\" tabindex=\"0\"><span>Trends</span></a>,\n",
              " <a class=\"BaseWrap-sc-gjQpdd BaseText-ewhhUZ BaseLink-eNWuiM NavLink-pAjkY iUEiRd hHRAkO LetjB ePXfkO\" data-testid=\"ScrollingNavigationLink\" href=\"/fashion/suzy-menkes\" role=\"link\" tabindex=\"0\"><span>Suzy Menkes</span></a>,\n",
              " <a class=\"BaseWrap-sc-gjQpdd BaseText-ewhhUZ BaseLink-eNWuiM NavLink-pAjkY iUEiRd hHRAkO LetjB ePXfkO\" data-testid=\"ScrollingNavigationLink\" href=\"/fashion/fashion-insider\" role=\"link\" tabindex=\"0\"><span>Insider</span></a>,\n",
              " <a class=\"BaseWrap-sc-gjQpdd BaseText-ewhhUZ BaseLink-eNWuiM NavLink-pAjkY iUEiRd hHRAkO LetjB ePXfkO\" data-testid=\"ScrollingNavigationLink\" href=\"/fashion/fashion-what-to-buy\" role=\"link\" tabindex=\"0\"><span>What to Buy</span></a>,\n",
              " <a class=\"BaseWrap-sc-gjQpdd BaseText-ewhhUZ BaseLink-eNWuiM NavLink-pAjkY iUEiRd hHRAkO LetjB ePXfkO\" data-testid=\"ScrollingNavigationLink\" href=\"/fashion/fashion-shows\" role=\"link\" tabindex=\"0\"><span>Fashion Shows</span></a>,\n",
              " <a class=\"BaseWrap-sc-gjQpdd BaseText-ewhhUZ BaseLink-eNWuiM NavLink-pAjkY iUEiRd hHRAkO LetjB ePXfkO\" data-testid=\"ScrollingNavigationLink\" href=\"/fashion/street-style\" role=\"link\" tabindex=\"0\"><span>Street Style</span></a>,\n",
              " <a class=\"BaseWrap-sc-gjQpdd BaseText-ewhhUZ BaseLink-eNWuiM NavLink-pAjkY iUEiRd hHRAkO LetjB ePXfkO\" data-testid=\"ScrollingNavigationLink\" href=\"/fashion/whats-new\" role=\"link\" tabindex=\"0\"><span>What's New</span></a>,\n",
              " <a class=\"SummaryItemHedLink-civMjp jRfyII summary-item-tracking__hed-link summary-item__hed-link\" data-component-title=\"\" data-component-type=\"recirc-river\" data-recirc-pattern=\"summary-item\" href=\"/content/clare-waight-keller-of-givenchy-and-chloe-fame-is-the-designer-behind-uniqlos-newest-label\" target=\"_self\"><h2 class=\"SummaryItemHedBase-hiFYpQ bfdOCB summary-item__hed\" data-testid=\"SummaryItemHed\">Clare Waight Keller, of Givenchy and Chloé fame, is the designer behind Uniqlo’s newest label</h2></a>,\n",
              " <a class=\"SummaryItemHedLink-civMjp jRfyII summary-item-tracking__hed-link summary-item__hed-link\" data-component-title=\"\" data-component-type=\"recirc-river\" data-recirc-pattern=\"summary-item\" href=\"/content/anita-dongres-new-eco-friendly-laundry-gel-is-a-mindful-step-towards-a-greener-future\" target=\"_self\"><h2 class=\"SummaryItemHedBase-hiFYpQ bfdOCB summary-item__hed\" data-testid=\"SummaryItemHed\">Anita Dongre's new eco-friendly laundry gel is a mindful step towards a greener future</h2></a>,\n",
              " <a class=\"SummaryItemHedLink-civMjp jRfyII summary-item-tracking__hed-link summary-item__hed-link\" data-component-title=\"\" data-component-type=\"recirc-river\" data-recirc-pattern=\"summary-item\" href=\"/content/if-carrie-bradshaw-is-wearing-a-beret-she-is-about-to-make-a-terrible-romantic-decision\" target=\"_self\"><h2 class=\"SummaryItemHedBase-hiFYpQ bfdOCB summary-item__hed\" data-testid=\"SummaryItemHed\">If Carrie Bradshaw is wearing a beret, she is about to make a terrible romantic decision</h2></a>,\n",
              " <a class=\"SummaryItemHedLink-civMjp jRfyII summary-item-tracking__hed-link summary-item__hed-link\" data-component-title=\"\" data-component-type=\"recirc-river\" data-recirc-pattern=\"summary-item\" href=\"/content/how-to-wear-birkenstock-sandals-according-to-gigi-hadid-ananya-panday-anushka-sharma-and-more-it-girls\" target=\"_self\"><h2 class=\"SummaryItemHedBase-hiFYpQ bfdOCB summary-item__hed\" data-testid=\"SummaryItemHed\">How to wear Birkenstock sandals according to Gigi Hadid, Ananya Panday, Anushka Sharma, and more It-girls</h2></a>,\n",
              " <a class=\"SummaryItemHedLink-civMjp jRfyII summary-item-tracking__hed-link summary-item__hed-link\" data-component-title=\"\" data-component-type=\"recirc-river\" data-recirc-pattern=\"summary-item\" href=\"/content/khushi-kapoors-corset-and-cargos-combo-epitomises-her-cool-girl-status\" target=\"_self\"><h2 class=\"SummaryItemHedBase-hiFYpQ bfdOCB summary-item__hed\" data-testid=\"SummaryItemHed\">Khushi Kapoor's corset and cargos combo proves her cool-girl status</h2></a>,\n",
              " <a class=\"SummaryItemHedLink-civMjp jRfyII summary-item-tracking__hed-link summary-item__hed-link\" data-component-title=\"\" data-component-type=\"recirc-river\" data-recirc-pattern=\"summary-item\" href=\"/content/beyonces-neon-green-look-by-gaurav-gupta-makes-the-saree-a-global-mainstay\" target=\"_self\"><h2 class=\"SummaryItemHedBase-hiFYpQ bfdOCB summary-item__hed\" data-testid=\"SummaryItemHed\">Beyoncé's neon green look by Gaurav Gupta makes the saree a global mainstay</h2></a>,\n",
              " <a class=\"SummaryItemHedLink-civMjp jRfyII summary-item-tracking__hed-link summary-item__hed-link\" data-component-title=\"\" data-component-type=\"recirc-river\" data-recirc-pattern=\"summary-item\" href=\"/content/priyanka-chopra-proves-that-the-cropped-jacket-is-the-ultimate-concert-staple\" target=\"_self\"><h2 class=\"SummaryItemHedBase-hiFYpQ bfdOCB summary-item__hed\" data-testid=\"SummaryItemHed\">Priyanka Chopra proves that the cropped jacket is the ultimate concert staple</h2></a>,\n",
              " <a class=\"SummaryItemHedLink-civMjp jRfyII summary-item-tracking__hed-link summary-item__hed-link\" data-component-title=\"\" data-component-type=\"recirc-river\" data-recirc-pattern=\"summary-item\" href=\"/content/what-the-jewellery-worn-by-the-characters-in-made-in-heaven-season-2-have-to-say-about-their-glamourous-lives\" target=\"_self\"><h2 class=\"SummaryItemHedBase-hiFYpQ bfdOCB summary-item__hed\" data-testid=\"SummaryItemHed\">What the jewellery worn by the characters in <em>Made in Heaven</em> season 2 have to say about their glamorous lives</h2></a>,\n",
              " <a class=\"SummaryItemHedLink-civMjp jRfyII summary-item-tracking__hed-link summary-item__hed-link\" data-component-title=\"\" data-component-type=\"recirc-river\" data-recirc-pattern=\"summary-item\" href=\"/content/brace-yourself-the-noughties-alexander-mcqueen-skull-scarf-is-being-raised-from-the-dead\" target=\"_self\"><h2 class=\"SummaryItemHedBase-hiFYpQ bfdOCB summary-item__hed\" data-testid=\"SummaryItemHed\">Brace yourself, the noughties skull Scarf is being raised from the dead</h2></a>,\n",
              " <a class=\"SummaryItemHedLink-civMjp jRfyII summary-item-tracking__hed-link summary-item__hed-link\" data-component-title=\"\" data-component-type=\"recirc-river\" data-recirc-pattern=\"summary-item\" href=\"/content/this-indian-stylists-fashion-instagram-account-will-show-you-how-to-find-your-unique-style-in-an-already-saturated-space\" target=\"_self\"><h2 class=\"SummaryItemHedBase-hiFYpQ bfdOCB summary-item__hed\" data-testid=\"SummaryItemHed\">This Indian stylist's fashion Instagram account will show you how to find your unique style in an already saturated space</h2></a>,\n",
              " <a class=\"SummaryItemHedLink-civMjp jRfyII summary-item-tracking__hed-link summary-item__hed-link\" data-component-title=\"\" data-component-type=\"recirc-river\" data-recirc-pattern=\"summary-item\" href=\"/content/best-fashion-instagrams-of-the-week-celebrities-embraced-saris-to-mermaid-style-dresses-from-suhana-khan-to-kiara-advani\" target=\"_self\"><h2 class=\"SummaryItemHedBase-hiFYpQ bfdOCB summary-item__hed\" data-testid=\"SummaryItemHed\">Best fashion Instagrams of the week—celebrities embraced saris to mermaid-style dresses from Suhana Khan to Kiara Advani</h2></a>,\n",
              " <a class=\"SummaryItemHedLink-civMjp jRfyII summary-item-tracking__hed-link summary-item__hed-link\" data-component-title=\"\" data-component-type=\"recirc-river\" data-recirc-pattern=\"summary-item\" href=\"/gallery/the-best-street-style-from-copenhagen-fashion-week\" target=\"_self\"><h2 class=\"SummaryItemHedBase-hiFYpQ bfdOCB summary-item__hed\" data-testid=\"SummaryItemHed\">The best street style from Copenhagen Fashion Week</h2></a>,\n",
              " <a class=\"SummaryItemHedLink-civMjp jRfyII summary-item-tracking__hed-link summary-item__hed-link\" data-component-title=\"\" data-component-type=\"recirc-river\" data-recirc-pattern=\"summary-item\" href=\"/content/rekhas-wardrobe-in-khoon-bhari-maang-is-all-the-inspiration-you-need-to-enter-your-villain-era\" target=\"_self\"><h2 class=\"SummaryItemHedBase-hiFYpQ bfdOCB summary-item__hed\" data-testid=\"SummaryItemHed\">Rekha’s wardrobe in <em>Khoon Bhari Maang</em> is all the inspiration you need to enter your villain era</h2></a>,\n",
              " <a class=\"SummaryItemHedLink-civMjp jRfyII summary-item-tracking__hed-link summary-item__hed-link\" data-component-title=\"\" data-component-type=\"recirc-river\" data-recirc-pattern=\"summary-item\" href=\"/content/this-1970s-dress-trend-is-making-a-comeback-this-summer\" target=\"_self\"><h2 class=\"SummaryItemHedBase-hiFYpQ bfdOCB summary-item__hed\" data-testid=\"SummaryItemHed\">Dua Lipa's see-through crochet beach dress was actually a 1970s throwback moment</h2></a>,\n",
              " <a class=\"SummaryItemHedLink-civMjp jRfyII summary-item-tracking__hed-link summary-item__hed-link\" data-component-title=\"\" data-component-type=\"recirc-river\" data-recirc-pattern=\"summary-item\" href=\"/content/is-the-monsoon-giving-you-shoe-anxiety-consider-the-humble-slippers-your-unlikely-wardrobe-hero\" target=\"_self\"><h2 class=\"SummaryItemHedBase-hiFYpQ bfdOCB summary-item__hed\" data-testid=\"SummaryItemHed\">Is the monsoon making your footwear choices difficult? The humble flip-flop can be your unlikely wardrobe hero</h2></a>,\n",
              " <a class=\"SummaryItemHedLink-civMjp jRfyII summary-item-tracking__hed-link summary-item__hed-link\" data-component-title=\"\" data-component-type=\"recirc-river\" data-recirc-pattern=\"summary-item\" href=\"/content/natalie-portman-wore-the-thong-sandal-trend-in-the-90s\" target=\"_self\"><h2 class=\"SummaryItemHedBase-hiFYpQ bfdOCB summary-item__hed\" data-testid=\"SummaryItemHed\">Natalie Portman wore the thong sandal trend in the 90s</h2></a>,\n",
              " <a class=\"SummaryItemHedLink-civMjp jRfyII summary-item-tracking__hed-link summary-item__hed-link\" data-component-title=\"\" data-component-type=\"recirc-river\" data-recirc-pattern=\"summary-item\" href=\"/gallery/9-times-kylie-jenner-confirmed-her-fashion-status-on-the-red-carpet\" target=\"_self\"><h2 class=\"SummaryItemHedBase-hiFYpQ bfdOCB summary-item__hed\" data-testid=\"SummaryItemHed\">9 times Kylie Jenner confirmed her fashion status on the red carpet</h2></a>,\n",
              " <a class=\"SummaryItemHedLink-civMjp jRfyII summary-item-tracking__hed-link summary-item__hed-link\" data-component-title=\"\" data-component-type=\"recirc-river\" data-recirc-pattern=\"summary-item\" href=\"/content/ananya-panday-channelled-beachside-barbie-in-a-pink-bikini-in-ibiza\" target=\"_self\"><h2 class=\"SummaryItemHedBase-hiFYpQ bfdOCB summary-item__hed\" data-testid=\"SummaryItemHed\">Ananya Panday channelled beachside Barbie in a pink bikini in Ibiza</h2></a>,\n",
              " <a class=\"SummaryItemHedLink-civMjp jRfyII summary-item-tracking__hed-link summary-item__hed-link\" data-component-title=\"\" data-component-type=\"recirc-river\" data-recirc-pattern=\"summary-item\" href=\"/content/this-series-of-installations-at-nature-morte-in-new-delhi-is-fusing-fashion-and-art-for-a-futuristic-hyper-real-world\" target=\"_self\"><h2 class=\"SummaryItemHedBase-hiFYpQ bfdOCB summary-item__hed\" data-testid=\"SummaryItemHed\">This installation at Nature Morte in New Delhi is fusing fashion and art for a futuristic hyper-real world</h2></a>,\n",
              " <a class=\"SummaryItemHedLink-civMjp jRfyII summary-item-tracking__hed-link summary-item__hed-link\" data-component-title=\"\" data-component-type=\"recirc-river\" data-recirc-pattern=\"summary-item\" href=\"/content/kareena-kapoor-khan-just-wore-these-carrie-bradshaw-approved-shoes\" target=\"_self\"><h2 class=\"SummaryItemHedBase-hiFYpQ bfdOCB summary-item__hed\" data-testid=\"SummaryItemHed\">Kareena Kapoor Khan just wore these Carrie Bradshaw-approved shoes</h2></a>,\n",
              " <a class=\"BaseButton-bLlsy ButtonWrapper-xCepQ cRxydS jSDfvG button button--primary\" data-event-click='{\"element\":\"Button\",\"outgoingURL\":\"?page=2\"}' data-section-title=\"Next Page\" data-testid=\"Button\" href=\"?page=2\" type=\"\"><span class=\"ButtonLabel-cjAuJN hzwRuG button__label\">Next Page</span></a>,\n",
              " <a href=\"/\"><span class=\"SpanWrapper-umhxW jvZaPI responsive-asset SiteFooterLogoResponsiveAsset-ckjzWk kubVDn site-footer__responsive-image\"><picture class=\"ResponsiveImagePicture-cWuUZO dUOtEa SiteFooterLogoResponsiveAsset-ckjzWk kubVDn site-footer__responsive-image responsive-image\"><img alt=\"Vogue\" class=\"ResponsiveImageContainer-eybHBd fptoWY responsive-image__image\" sizes=\"100vw\" src=\"/verso/static/vogue/assets/logo-reverse.svg\" srcset=\"\"/></picture></span></a>,\n",
              " <a aria-label=\"Facebook\" class=\"external-link SocialIconExternalLink-huuzOU faldEO social-icons__link social-icons__link--facebook\" data-event-click='{\"element\":\"ExternalLink\",\"outgoingURL\":\"https://www.facebook.com/VogueIndia\"}' href=\"https://www.facebook.com/VogueIndia\" rel=\"nofollow noopener\" target=\"_blank\"><div class=\"SocialIconContainer-huXzUC pMzVC social-icons__icon-container\"><svg class=\"SocialIconNetworkIconComponent-cZaKGz dlOAhZ icon icon-facebook\" fill=\"none\" focusable=\"false\" height=\"32\" viewbox=\"0 0 32 32\" width=\"32\" xmlns=\"http://www.w3.org/2000/svg\"><title>Facebook</title><path d=\"M13.621 11.099V13.302H12V15.995H13.621V24H16.951V15.995H19.186C19.186 15.995 19.395 14.704 19.496 13.292H16.964V11.45C16.964 11.175 17.327 10.804 17.686 10.804H19.5V8H17.033C13.539 8 13.621 10.696 13.621 11.099Z\" fill=\"black\"></path></svg></div></a>,\n",
              " <a aria-label=\"Instagram\" class=\"external-link SocialIconExternalLink-huuzOU faldEO social-icons__link social-icons__link--instagram\" data-event-click='{\"element\":\"ExternalLink\",\"outgoingURL\":\"https://www.instagram.com/vogueindia\"}' href=\"https://www.instagram.com/vogueindia\" rel=\"nofollow noopener\" target=\"_blank\"><div class=\"SocialIconContainer-huXzUC pMzVC social-icons__icon-container\"><svg class=\"SocialIconNetworkIconComponent-cZaKGz dlOAhZ icon icon-instagram\" fill=\"none\" focusable=\"false\" height=\"32\" viewbox=\"0 0 32 32\" width=\"32\" xmlns=\"http://www.w3.org/2000/svg\"><title>Instagram</title><path d=\"M16 8C18.173 8 18.445 8.01 19.298 8.048C20.15 8.087 20.731 8.222 21.24 8.42C21.766 8.624 22.213 8.898 22.657 9.343C23.102 9.787 23.376 10.233 23.58 10.76C23.778 11.269 23.913 11.85 23.952 12.702C23.991 13.555 24 13.827 24 16C24 18.173 23.99 18.445 23.952 19.298C23.913 20.15 23.778 20.731 23.58 21.24C23.379 21.7738 23.064 22.2574 22.657 22.657C22.213 23.102 21.767 23.376 21.24 23.58C20.731 23.778 20.15 23.913 19.298 23.952C18.445 23.991 18.173 24 16 24C13.827 24 13.555 23.99 12.702 23.952C11.85 23.913 11.269 23.778 10.76 23.58C10.2262 23.379 9.74259 23.064 9.343 22.657C8.93593 22.2574 8.62093 21.7738 8.42 21.24C8.222 20.731 8.087 20.15 8.048 19.298C8.01 18.445 8 18.173 8 16C8 13.827 8.01 13.555 8.048 12.702C8.087 11.85 8.222 11.269 8.42 10.76C8.624 10.234 8.898 9.787 9.343 9.343C9.787 8.898 10.233 8.624 10.76 8.42C11.269 8.222 11.85 8.087 12.702 8.048C13.555 8.01 13.827 8 16 8ZM16 10C14.046 10 13.814 10.007 13.043 10.043C12.329 10.075 11.942 10.194 11.683 10.295C11.3657 10.4124 11.0787 10.5993 10.843 10.842C10.586 11.098 10.427 11.342 10.295 11.684C10.195 11.942 10.075 12.329 10.043 13.043C10.007 13.814 10 14.046 10 16C10 17.954 10.007 18.186 10.043 18.957C10.075 19.671 10.194 20.058 10.295 20.317C10.427 20.658 10.586 20.902 10.842 21.157C11.098 21.414 11.342 21.573 11.684 21.705C11.942 21.805 12.329 21.925 13.043 21.957C13.814 21.993 14.046 22 16 22C17.954 22 18.186 21.993 18.957 21.957C19.671 21.925 20.058 21.806 20.317 21.705C20.658 21.573 20.902 21.414 21.157 21.158C21.414 20.902 21.573 20.658 21.705 20.316C21.805 20.058 21.925 19.671 21.957 18.957C21.993 18.186 22 17.954 22 16C22 14.046 21.993 13.814 21.957 13.043C21.925 12.329 21.806 11.942 21.705 11.683C21.5876 11.3657 21.4007 11.0787 21.158 10.843C20.9219 10.5997 20.6341 10.4124 20.316 10.295C20.058 10.195 19.671 10.075 18.957 10.043C18.186 10.007 17.954 10 16 10ZM16 11.768C16.5558 11.768 17.1061 11.8775 17.6195 12.0901C18.133 12.3028 18.5995 12.6145 18.9925 13.0075C19.3855 13.4005 19.6972 13.867 19.9099 14.3805C20.1225 14.8939 20.232 15.4442 20.232 16C20.232 16.5558 20.1225 17.1061 19.9099 17.6195C19.6972 18.133 19.3855 18.5995 18.9925 18.9925C18.5995 19.3855 18.133 19.6972 17.6195 19.9099C17.1061 20.1225 16.5558 20.232 16 20.232C14.8776 20.232 13.8012 19.7861 13.0075 18.9925C12.2139 18.1988 11.768 17.1224 11.768 16C11.768 14.8776 12.2139 13.8012 13.0075 13.0075C13.8012 12.2139 14.8776 11.768 16 11.768ZM16 18.368C16.628 18.368 17.2303 18.1185 17.6744 17.6744C18.1185 17.2303 18.368 16.628 18.368 16C18.368 15.372 18.1185 14.7697 17.6744 14.3256C17.2303 13.8815 16.628 13.632 16 13.632C15.372 13.632 14.7697 13.8815 14.3256 14.3256C13.8815 14.7697 13.632 15.372 13.632 16C13.632 16.628 13.8815 17.2303 14.3256 17.6744C14.7697 18.1185 15.372 18.368 16 18.368ZM21.3 11.85C21.3 12.155 21.1788 12.4475 20.9632 12.6632C20.7475 12.8788 20.455 13 20.15 13C19.845 13 19.5525 12.8788 19.3368 12.6632C19.1212 12.4475 19 12.155 19 11.85C19 11.545 19.1212 11.2525 19.3368 11.0368C19.5525 10.8212 19.845 10.7 20.15 10.7C20.455 10.7 20.7475 10.8212 20.9632 11.0368C21.1788 11.2525 21.3 11.545 21.3 11.85Z\" fill=\"black\"></path></svg></div></a>,\n",
              " <a aria-label=\"Twitter\" class=\"external-link SocialIconExternalLink-huuzOU faldEO social-icons__link social-icons__link--twitter\" data-event-click='{\"element\":\"ExternalLink\",\"outgoingURL\":\"https://twitter.com/VOGUEIndia\"}' href=\"https://twitter.com/VOGUEIndia\" rel=\"nofollow noopener\" target=\"_blank\"><div class=\"SocialIconContainer-huXzUC pMzVC social-icons__icon-container\"><svg class=\"SocialIconNetworkIconComponent-cZaKGz dlOAhZ icon icon-twitter\" fill=\"none\" focusable=\"false\" height=\"32\" viewbox=\"0 0 32 32\" width=\"32\" xmlns=\"http://www.w3.org/2000/svg\"><title>Twitter</title><path d=\"M13.032 22.003C19.07 22.003 22.372 17.001 22.372 12.663C22.3719 12.5216 22.3686 12.3803 22.362 12.239C23.0045 11.7744 23.5592 11.1991 24 10.54C23.401 10.8056 22.7656 10.9799 22.115 11.057C22.8003 10.6467 23.3132 10.0013 23.558 9.24103C22.9138 9.62343 22.209 9.89297 21.474 10.038C20.9799 9.50946 20.325 9.15892 19.6112 9.04091C18.8973 8.9229 18.1644 9.04403 17.5265 9.38545C16.8886 9.72688 16.3813 10.2695 16.0836 10.9289C15.7858 11.5884 15.7142 12.3277 15.88 13.032C14.5746 12.9664 13.2976 12.6269 12.132 12.0356C10.9663 11.4444 9.93808 10.6145 9.114 9.60003C8.69297 10.3223 8.56366 11.1782 8.7525 11.9926C8.94134 12.8071 9.43407 13.5187 10.13 13.982C9.60866 13.9664 9.0987 13.8258 8.643 13.572V13.614C8.64319 14.3718 8.90547 15.1063 9.38536 15.6928C9.86525 16.2793 10.5332 16.6818 11.276 16.832C10.7924 16.9633 10.2852 16.9825 9.793 16.888C10.0027 17.5404 10.411 18.1109 10.961 18.5197C11.5109 18.9286 12.1749 19.1552 12.86 19.168C11.6971 20.0805 10.2611 20.5754 8.783 20.573C8.518 20.573 8.257 20.558 8 20.528C9.5011 21.4921 11.248 22.0038 13.032 22.002\" fill=\"black\"></path></svg></div></a>,\n",
              " <a aria-label=\"YouTube\" class=\"external-link SocialIconExternalLink-huuzOU faldEO social-icons__link social-icons__link--youtube\" data-event-click='{\"element\":\"ExternalLink\",\"outgoingURL\":\"https://www.youtube.com/user/IndiaVogue\"}' href=\"https://www.youtube.com/user/IndiaVogue\" rel=\"nofollow noopener\" target=\"_blank\"><div class=\"SocialIconContainer-huXzUC pMzVC social-icons__icon-container\"><svg class=\"SocialIconNetworkIconComponent-cZaKGz dlOAhZ icon icon-youtube\" fill=\"none\" focusable=\"false\" height=\"32\" viewbox=\"0 0 32 32\" width=\"32\" xmlns=\"http://www.w3.org/2000/svg\"><title>YouTube</title><path d=\"M23.666 11.76C23.5755 11.4196 23.3971 11.109 23.1488 10.8593C22.9005 10.6095 22.5909 10.4294 22.251 10.337C21.003 10 16 10 16 10C16 10 10.997 10 9.749 10.337C9.40915 10.4294 9.09955 10.6095 8.85121 10.8593C8.60287 11.109 8.42451 11.4196 8.334 11.76C8 13.016 8 15.636 8 15.636C8 15.636 8 18.256 8.334 19.512C8.42436 19.8526 8.60265 20.1634 8.851 20.4133C9.09934 20.6632 9.40903 20.8435 9.749 20.936C10.997 21.273 16 21.273 16 21.273C16 21.273 21.003 21.273 22.251 20.936C22.591 20.8435 22.9007 20.6632 23.149 20.4133C23.3974 20.1634 23.5756 19.8526 23.666 19.512C24 18.257 24 15.636 24 15.636C24 15.636 24 13.016 23.666 11.76ZM14.364 18.015V13.257L18.545 15.637L14.364 18.015Z\" fill=\"black\"></path></svg></div></a>,\n",
              " <a aria-label=\"Flipboard\" class=\"external-link SocialIconExternalLink-huuzOU faldEO social-icons__link social-icons__link--flipboard\" data-event-click='{\"element\":\"ExternalLink\",\"outgoingURL\":\"https://flipboard.com/@vogueindia\"}' href=\"https://flipboard.com/@vogueindia\" rel=\"nofollow noopener\" target=\"_blank\"><div class=\"SocialIconContainer-huXzUC pMzVC social-icons__icon-container\"><svg class=\"SocialIconNetworkIconComponent-cZaKGz dlOAhZ icon icon-flipboard\" fill=\"none\" focusable=\"false\" height=\"32\" viewbox=\"0 0 32 32\" width=\"32\" xmlns=\"http://www.w3.org/2000/svg\"><title>Flipboard</title><path d=\"M8 8V24H24V8H8ZM20.8 14.4H17.6V17.6H14.4V20.8H11.2V11.2H20.8V14.4Z\" fill=\"black\"></path></svg></div></a>,\n",
              " <a aria-label=\"Pinterest\" class=\"external-link SocialIconExternalLink-huuzOU faldEO social-icons__link social-icons__link--pinterest\" data-event-click='{\"element\":\"ExternalLink\",\"outgoingURL\":\"https://in.pinterest.com/vogueindia\"}' data-pin-do=\"nothing\" href=\"https://in.pinterest.com/vogueindia\" rel=\"nofollow noopener\" target=\"_blank\"><div class=\"SocialIconContainer-huXzUC pMzVC social-icons__icon-container\"><svg class=\"SocialIconNetworkIconComponent-cZaKGz dlOAhZ icon icon-pinterest\" fill=\"none\" focusable=\"false\" height=\"32\" viewbox=\"0 0 32 32\" width=\"32\" xmlns=\"http://www.w3.org/2000/svg\"><title>Pinterest</title><path d=\"M15.169 18.448C14.793 20.093 14.425 21.678 13.623 22.928C13.377 23.311 13.13 23.793 12.71 24C12.09 20.807 13.387 18.12 13.899 15.436C13.246 14.103 13.652 11.846 15.051 11.59C17.077 11.22 16.543 13.664 16.2 14.8C16.01 15.424 15.671 16.021 15.722 16.705C15.835 18.146 17.648 18.24 18.577 17.497C19.909 16.436 20.295 14.385 20.164 12.7C19.967 10.135 17.062 8.85997 14.496 9.88497C13.173 10.413 11.973 11.628 11.799 13.413C11.709 14.353 11.906 15.104 12.276 15.634C12.331 15.715 12.523 15.857 12.552 16.072C12.61 16.506 12.352 16.974 12.116 17.298C10.802 16.92 10.124 15.741 10.016 14.248C9.76596 10.848 12.558 8.26397 15.841 8.02197C19.348 7.76497 22.126 9.78896 22.384 12.74C22.576 14.933 21.797 17.14 20.561 18.329C19.631 19.221 17.656 20.096 16.041 19.242C15.684 19.052 15.524 18.82 15.169 18.448Z\" fill=\"black\"></path></svg></div></a>,\n",
              " <a class=\"NavigationInternalLink-cWEaeo knabMb navigation__link navigation__link--active\" data-testid=\"navigation__internal-link\" href=\"/fashion\" role=\"link\">Fashion</a>,\n",
              " <a class=\"NavigationInternalLink-cWEaeo knabMb navigation__link\" data-testid=\"navigation__internal-link\" href=\"/beauty\" role=\"link\">Beauty</a>,\n",
              " <a class=\"NavigationInternalLink-cWEaeo knabMb navigation__link\" data-testid=\"navigation__internal-link\" href=\"/vogue-closet/\" role=\"link\">Vogue Closet</a>,\n",
              " <a class=\"NavigationInternalLink-cWEaeo knabMb navigation__link\" data-testid=\"navigation__internal-link\" href=\"/horoscope/\" role=\"link\">Horoscope</a>,\n",
              " <a class=\"NavigationInternalLink-cWEaeo knabMb navigation__link\" data-testid=\"navigation__internal-link\" href=\"https://www.vogue.in/web-stories/\" role=\"link\">VISUAL STORIES</a>,\n",
              " <a class=\"NavigationInternalLink-cWEaeo knabMb navigation__link\" data-testid=\"navigation__internal-link\" href=\"/magazine/\" role=\"link\">Magazine</a>,\n",
              " <a class=\"NavigationInternalLink-cWEaeo knabMb navigation__link\" data-testid=\"navigation__internal-link\" href=\"/video/\" role=\"link\">Video</a>,\n",
              " <a class=\"NavigationInternalLink-cWEaeo knabMb navigation__link\" data-testid=\"navigation__internal-link\" href=\"/culture-and-living\" role=\"link\">Culture &amp; Lifestyle</a>,\n",
              " <a class=\"NavigationInternalLink-cWEaeo knabMb navigation__link\" data-testid=\"navigation__internal-link\" href=\"https://www.vogue.in/wedding-wardrobe/\" role=\"link\">Wedding Wardrobe</a>,\n",
              " <a class=\"external-link NavigationExternalLink-hktPkS jLQUSr navigation__link\" data-event-click='{\"element\":\"ExternalLink\",\"outgoingURL\":\"https://www.vogueforcesoffashion.com/\"}' href=\"https://www.vogueforcesoffashion.com/\" rel=\"nofollow noopener\" target=\"_blank\">Forces of Fashion</a>,\n",
              " <a class=\"NavigationInternalLink-cWEaeo knabMb navigation__link\" data-testid=\"navigation__internal-link\" href=\"https://www.vogue.in/dubai-destination-weddings\" role=\"link\">Dubai: Destination Weddings</a>,\n",
              " <a class=\"NavigationInternalLink-cWEaeo knabMb navigation__link\" data-testid=\"navigation__internal-link\" href=\"https://www.vogue.in/diamond-jewellery-festival-2022\" role=\"link\">Diamond Festival 2022</a>,\n",
              " <a class=\"NavigationInternalLink-cWEaeo knabMb navigation__link\" data-testid=\"navigation__internal-link\" href=\"https://www.vogue.com/photovogue\" role=\"link\">PhotoVogue</a>,\n",
              " <a class=\"NavigationInternalLink-cWEaeo knabMb navigation__link\" data-testid=\"navigation__internal-link\" href=\"https://www.architecturaldigest.in/\" role=\"link\">AD</a>,\n",
              " <a class=\"NavigationInternalLink-cWEaeo knabMb navigation__link\" data-testid=\"navigation__internal-link\" href=\"https://www.cntraveller.in/\" role=\"link\">Traveler</a>,\n",
              " <a class=\"NavigationInternalLink-cWEaeo knabMb navigation__link\" data-testid=\"navigation__internal-link\" href=\"https://www.gqindia.com/\" role=\"link\">GQ</a>,\n",
              " <a class=\"NavigationInternalLink-cWEaeo knabMb navigation__link\" data-testid=\"navigation__internal-link\" href=\"/\" role=\"link\">Vogue</a>,\n",
              " <a class=\"NavigationInternalLink-cWEaeo knabMb navigation__link\" data-testid=\"navigation__internal-link\" href=\"/legal/content/terms-conditions\" role=\"link\">Terms of Service</a>,\n",
              " <a class=\"NavigationInternalLink-cWEaeo knabMb navigation__link\" data-testid=\"navigation__internal-link\" href=\"/legal/content/contact-us\" role=\"link\">Contact</a>,\n",
              " <a class=\"NavigationInternalLink-cWEaeo knabMb navigation__link\" data-testid=\"navigation__internal-link\" href=\"/legal/content/careers\" role=\"link\">Careers</a>,\n",
              " <a class=\"NavigationInternalLink-cWEaeo knabMb navigation__link\" data-testid=\"navigation__internal-link\" href=\"/legal/content/advertise\" role=\"link\">Advertising</a>,\n",
              " <a class=\"NavigationInternalLink-cWEaeo knabMb navigation__link\" data-testid=\"navigation__internal-link\" href=\"/newsletter\" role=\"link\">Newsletter</a>,\n",
              " <a class=\"NavigationInternalLink-cWEaeo knabMb navigation__link\" data-testid=\"navigation__internal-link\" href=\"https://www.vogue.in/subscription/?in_source=footer&amp;in_medium=directtraffic&amp;in_campaign=websiteVERSO\" role=\"link\">Subscribe</a>,\n",
              " <a class=\"external-link\" data-event-click='{\"element\":\"ExternalLink\",\"outgoingURL\":\"https://www.vogue.in/legal/content/terms-conditions\"}' href=\"https://www.vogue.in/legal/content/terms-conditions\" rel=\"nofollow noopener\" target=\"_blank\">Terms of Service</a>,\n",
              " <a class=\"external-link\" data-event-click='{\"element\":\"ExternalLink\",\"outgoingURL\":\"https://www.vogue.in/legal/content/privacy-policy\"}' href=\"https://www.vogue.in/legal/content/privacy-policy\" rel=\"nofollow noopener\" target=\"_blank\">Policy and Cookie Statement</a>,\n",
              " <a class=\"BaseWrap-sc-gjQpdd BaseText-ewhhUZ BaseLink-eNWuiM NavigationDropdownLink-wQNwA iUEiRd hHRAkO dwNOro cxfUYn\" href=\"https://en.vogue.me/\" role=\"menuitem\">Arabia</a>,\n",
              " <a class=\"BaseWrap-sc-gjQpdd BaseText-ewhhUZ BaseLink-eNWuiM NavigationDropdownLink-wQNwA iUEiRd hHRAkO dwNOro cxfUYn\" href=\"https://www.vogue.com.au/\" role=\"menuitem\">Australia</a>,\n",
              " <a class=\"BaseWrap-sc-gjQpdd BaseText-ewhhUZ BaseLink-eNWuiM NavigationDropdownLink-wQNwA iUEiRd hHRAkO dwNOro cxfUYn\" href=\"https://vogue.globo.com/\" role=\"menuitem\">Brasil</a>,\n",
              " <a class=\"BaseWrap-sc-gjQpdd BaseText-ewhhUZ BaseLink-eNWuiM NavigationDropdownLink-wQNwA iUEiRd hHRAkO dwNOro cxfUYn\" href=\"https://www.vogue.co.uk/\" role=\"menuitem\">Britain</a>,\n",
              " <a class=\"BaseWrap-sc-gjQpdd BaseText-ewhhUZ BaseLink-eNWuiM NavigationDropdownLink-wQNwA iUEiRd hHRAkO dwNOro cxfUYn\" href=\"https://www.vogue.com.cn/\" role=\"menuitem\">China</a>,\n",
              " <a class=\"BaseWrap-sc-gjQpdd BaseText-ewhhUZ BaseLink-eNWuiM NavigationDropdownLink-wQNwA iUEiRd hHRAkO dwNOro cxfUYn\" href=\"https://www.vogue.cz/\" role=\"menuitem\">Czechoslovakia</a>,\n",
              " <a class=\"BaseWrap-sc-gjQpdd BaseText-ewhhUZ BaseLink-eNWuiM NavigationDropdownLink-wQNwA iUEiRd hHRAkO dwNOro cxfUYn\" href=\"https://www.vogue.es/\" role=\"menuitem\">España</a>,\n",
              " <a class=\"BaseWrap-sc-gjQpdd BaseText-ewhhUZ BaseLink-eNWuiM NavigationDropdownLink-wQNwA iUEiRd hHRAkO dwNOro cxfUYn\" href=\"https://www.vogue.fr/\" role=\"menuitem\">France</a>,\n",
              " <a class=\"BaseWrap-sc-gjQpdd BaseText-ewhhUZ BaseLink-eNWuiM NavigationDropdownLink-wQNwA iUEiRd hHRAkO dwNOro cxfUYn\" href=\"https://www.vogue.de/\" role=\"menuitem\">Germany</a>,\n",
              " <a class=\"BaseWrap-sc-gjQpdd BaseText-ewhhUZ BaseLink-eNWuiM NavigationDropdownLink-wQNwA iUEiRd hHRAkO dwNOro cxfUYn\" href=\"https://vogue.gr/\" role=\"menuitem\">Greece</a>,\n",
              " <a class=\"BaseWrap-sc-gjQpdd BaseText-ewhhUZ BaseLink-eNWuiM NavigationDropdownLink-wQNwA iUEiRd hHRAkO dwNOro cxfUYn\" href=\"https://www.voguehk.com/zh/\" role=\"menuitem\">Hong Kong</a>,\n",
              " <a class=\"BaseWrap-sc-gjQpdd BaseText-ewhhUZ BaseLink-eNWuiM NavigationDropdownLink-wQNwA iUEiRd hHRAkO dwNOro cxfUYn\" href=\"https://www.vogue.it/\" role=\"menuitem\">Italia</a>,\n",
              " <a class=\"BaseWrap-sc-gjQpdd BaseText-ewhhUZ BaseLink-eNWuiM NavigationDropdownLink-wQNwA iUEiRd hHRAkO dwNOro cxfUYn\" href=\"https://www.vogue.co.jp/\" role=\"menuitem\">Japan</a>,\n",
              " <a class=\"BaseWrap-sc-gjQpdd BaseText-ewhhUZ BaseLink-eNWuiM NavigationDropdownLink-wQNwA iUEiRd hHRAkO dwNOro cxfUYn\" href=\"https://www.vogue.co.kr/\" role=\"menuitem\">Korea</a>,\n",
              " <a class=\"BaseWrap-sc-gjQpdd BaseText-ewhhUZ BaseLink-eNWuiM NavigationDropdownLink-wQNwA iUEiRd hHRAkO dwNOro cxfUYn\" href=\"https://www.vogue.mx/\" role=\"menuitem\">México</a>,\n",
              " <a class=\"BaseWrap-sc-gjQpdd BaseText-ewhhUZ BaseLink-eNWuiM NavigationDropdownLink-wQNwA iUEiRd hHRAkO dwNOro cxfUYn\" href=\"https://www.vogue.nl/\" role=\"menuitem\">Nederland</a>,\n",
              " <a class=\"BaseWrap-sc-gjQpdd BaseText-ewhhUZ BaseLink-eNWuiM NavigationDropdownLink-wQNwA iUEiRd hHRAkO dwNOro cxfUYn\" href=\"https://www.vogue.ph/\" role=\"menuitem\">Philippines</a>,\n",
              " <a class=\"BaseWrap-sc-gjQpdd BaseText-ewhhUZ BaseLink-eNWuiM NavigationDropdownLink-wQNwA iUEiRd hHRAkO dwNOro cxfUYn\" href=\"https://www.vogue.pl/\" role=\"menuitem\">Polska</a>,\n",
              " <a class=\"BaseWrap-sc-gjQpdd BaseText-ewhhUZ BaseLink-eNWuiM NavigationDropdownLink-wQNwA iUEiRd hHRAkO dwNOro cxfUYn\" href=\"https://www.vogue.pt/\" role=\"menuitem\">Portugal</a>,\n",
              " <a class=\"BaseWrap-sc-gjQpdd BaseText-ewhhUZ BaseLink-eNWuiM NavigationDropdownLink-wQNwA iUEiRd hHRAkO dwNOro cxfUYn\" href=\"https://www.voguescandinavia.com/\" role=\"menuitem\">Scandinavia</a>,\n",
              " <a class=\"BaseWrap-sc-gjQpdd BaseText-ewhhUZ BaseLink-eNWuiM NavigationDropdownLink-wQNwA iUEiRd hHRAkO dwNOro cxfUYn\" href=\"https://vogue.sg/\" role=\"menuitem\">Singapore</a>,\n",
              " <a class=\"BaseWrap-sc-gjQpdd BaseText-ewhhUZ BaseLink-eNWuiM NavigationDropdownLink-wQNwA iUEiRd hHRAkO dwNOro cxfUYn\" href=\"https://www.vogue.com.tw/\" role=\"menuitem\">Taiwan</a>,\n",
              " <a class=\"BaseWrap-sc-gjQpdd BaseText-ewhhUZ BaseLink-eNWuiM NavigationDropdownLink-wQNwA iUEiRd hHRAkO dwNOro cxfUYn\" href=\"https://www.vogue.co.th/\" role=\"menuitem\">Thailand</a>,\n",
              " <a class=\"BaseWrap-sc-gjQpdd BaseText-ewhhUZ BaseLink-eNWuiM NavigationDropdownLink-wQNwA iUEiRd hHRAkO dwNOro cxfUYn\" href=\"https://vogue.com.tr/\" role=\"menuitem\">Türkiye</a>,\n",
              " <a class=\"BaseWrap-sc-gjQpdd BaseText-ewhhUZ BaseLink-eNWuiM NavigationDropdownLink-wQNwA iUEiRd hHRAkO dwNOro cxfUYn\" href=\"https://vogue.ua/\" role=\"menuitem\">Ukraine</a>,\n",
              " <a class=\"BaseWrap-sc-gjQpdd BaseText-ewhhUZ BaseLink-eNWuiM NavigationDropdownLink-wQNwA iUEiRd hHRAkO dwNOro cxfUYn\" href=\"https://www.vogue.com/\" role=\"menuitem\">United States</a>]"
            ]
          },
          "metadata": {},
          "execution_count": 5
        }
      ],
      "source": [
        "soup_page.findAll(\"a\")"
      ]
    },
    {
      "cell_type": "markdown",
      "source": [
        "## Extracting Required Links"
      ],
      "metadata": {
        "id": "yhIG0JDwxZcH"
      }
    },
    {
      "cell_type": "code",
      "execution_count": null,
      "metadata": {
        "id": "h2UqRQ8QJr42"
      },
      "outputs": [],
      "source": [
        "# Save the filtered information as an instance\n",
        "blog_links = soup_page.findAll(\"a\",{\"class\" : \"SummaryItemHedLink-civMjp jRfyII summary-item-tracking__hed-link summary-item__hed-link\"})"
      ]
    },
    {
      "cell_type": "code",
      "execution_count": null,
      "metadata": {
        "id": "7XAni_oYKKsr",
        "colab": {
          "base_uri": "https://localhost:8080/"
        },
        "outputId": "48919bef-fbca-4a3a-efbe-1b448a2a4bcd"
      },
      "outputs": [
        {
          "output_type": "stream",
          "name": "stdout",
          "text": [
            "/content/clare-waight-keller-of-givenchy-and-chloe-fame-is-the-designer-behind-uniqlos-newest-label \n",
            "\n",
            "/content/anita-dongres-new-eco-friendly-laundry-gel-is-a-mindful-step-towards-a-greener-future \n",
            "\n",
            "/content/if-carrie-bradshaw-is-wearing-a-beret-she-is-about-to-make-a-terrible-romantic-decision \n",
            "\n",
            "/content/how-to-wear-birkenstock-sandals-according-to-gigi-hadid-ananya-panday-anushka-sharma-and-more-it-girls \n",
            "\n",
            "/content/khushi-kapoors-corset-and-cargos-combo-epitomises-her-cool-girl-status \n",
            "\n",
            "/content/beyonces-neon-green-look-by-gaurav-gupta-makes-the-saree-a-global-mainstay \n",
            "\n",
            "/content/priyanka-chopra-proves-that-the-cropped-jacket-is-the-ultimate-concert-staple \n",
            "\n",
            "/content/what-the-jewellery-worn-by-the-characters-in-made-in-heaven-season-2-have-to-say-about-their-glamourous-lives \n",
            "\n",
            "/content/brace-yourself-the-noughties-alexander-mcqueen-skull-scarf-is-being-raised-from-the-dead \n",
            "\n",
            "/content/this-indian-stylists-fashion-instagram-account-will-show-you-how-to-find-your-unique-style-in-an-already-saturated-space \n",
            "\n",
            "/content/best-fashion-instagrams-of-the-week-celebrities-embraced-saris-to-mermaid-style-dresses-from-suhana-khan-to-kiara-advani \n",
            "\n",
            "/gallery/the-best-street-style-from-copenhagen-fashion-week \n",
            "\n",
            "/content/rekhas-wardrobe-in-khoon-bhari-maang-is-all-the-inspiration-you-need-to-enter-your-villain-era \n",
            "\n",
            "/content/this-1970s-dress-trend-is-making-a-comeback-this-summer \n",
            "\n",
            "/content/is-the-monsoon-giving-you-shoe-anxiety-consider-the-humble-slippers-your-unlikely-wardrobe-hero \n",
            "\n",
            "/content/natalie-portman-wore-the-thong-sandal-trend-in-the-90s \n",
            "\n",
            "/gallery/9-times-kylie-jenner-confirmed-her-fashion-status-on-the-red-carpet \n",
            "\n",
            "/content/ananya-panday-channelled-beachside-barbie-in-a-pink-bikini-in-ibiza \n",
            "\n",
            "/content/this-series-of-installations-at-nature-morte-in-new-delhi-is-fusing-fashion-and-art-for-a-futuristic-hyper-real-world \n",
            "\n",
            "/content/kareena-kapoor-khan-just-wore-these-carrie-bradshaw-approved-shoes \n",
            "\n"
          ]
        }
      ],
      "source": [
        "# Now that we have the links we can pull out the link to each of the pages where you can download the reports of interest\n",
        "for link in blog_links:\n",
        "  print(link.attrs[\"href\"],\"\\n\")"
      ]
    },
    {
      "cell_type": "code",
      "execution_count": null,
      "metadata": {
        "colab": {
          "base_uri": "https://localhost:8080/"
        },
        "id": "WRQB8oCrKRF7",
        "outputId": "0ad6444f-e13e-4df5-af27-b686bb69b317"
      },
      "outputs": [
        {
          "output_type": "execute_result",
          "data": {
            "text/plain": [
              "['https://www.vogue.in/content/clare-waight-keller-of-givenchy-and-chloe-fame-is-the-designer-behind-uniqlos-newest-label',\n",
              " 'https://www.vogue.in/content/anita-dongres-new-eco-friendly-laundry-gel-is-a-mindful-step-towards-a-greener-future',\n",
              " 'https://www.vogue.in/content/if-carrie-bradshaw-is-wearing-a-beret-she-is-about-to-make-a-terrible-romantic-decision',\n",
              " 'https://www.vogue.in/content/how-to-wear-birkenstock-sandals-according-to-gigi-hadid-ananya-panday-anushka-sharma-and-more-it-girls',\n",
              " 'https://www.vogue.in/content/khushi-kapoors-corset-and-cargos-combo-epitomises-her-cool-girl-status',\n",
              " 'https://www.vogue.in/content/beyonces-neon-green-look-by-gaurav-gupta-makes-the-saree-a-global-mainstay',\n",
              " 'https://www.vogue.in/content/priyanka-chopra-proves-that-the-cropped-jacket-is-the-ultimate-concert-staple',\n",
              " 'https://www.vogue.in/content/what-the-jewellery-worn-by-the-characters-in-made-in-heaven-season-2-have-to-say-about-their-glamourous-lives',\n",
              " 'https://www.vogue.in/content/brace-yourself-the-noughties-alexander-mcqueen-skull-scarf-is-being-raised-from-the-dead',\n",
              " 'https://www.vogue.in/content/this-indian-stylists-fashion-instagram-account-will-show-you-how-to-find-your-unique-style-in-an-already-saturated-space',\n",
              " 'https://www.vogue.in/content/best-fashion-instagrams-of-the-week-celebrities-embraced-saris-to-mermaid-style-dresses-from-suhana-khan-to-kiara-advani',\n",
              " 'https://www.vogue.in/gallery/the-best-street-style-from-copenhagen-fashion-week',\n",
              " 'https://www.vogue.in/content/rekhas-wardrobe-in-khoon-bhari-maang-is-all-the-inspiration-you-need-to-enter-your-villain-era',\n",
              " 'https://www.vogue.in/content/this-1970s-dress-trend-is-making-a-comeback-this-summer',\n",
              " 'https://www.vogue.in/content/is-the-monsoon-giving-you-shoe-anxiety-consider-the-humble-slippers-your-unlikely-wardrobe-hero',\n",
              " 'https://www.vogue.in/content/natalie-portman-wore-the-thong-sandal-trend-in-the-90s',\n",
              " 'https://www.vogue.in/gallery/9-times-kylie-jenner-confirmed-her-fashion-status-on-the-red-carpet',\n",
              " 'https://www.vogue.in/content/ananya-panday-channelled-beachside-barbie-in-a-pink-bikini-in-ibiza',\n",
              " 'https://www.vogue.in/content/this-series-of-installations-at-nature-morte-in-new-delhi-is-fusing-fashion-and-art-for-a-futuristic-hyper-real-world',\n",
              " 'https://www.vogue.in/content/kareena-kapoor-khan-just-wore-these-carrie-bradshaw-approved-shoes']"
            ]
          },
          "metadata": {},
          "execution_count": 8
        }
      ],
      "source": [
        "# A short loop to save the weblinks to each of the publications\n",
        "pub_links = []\n",
        "for link in blog_links:\n",
        "   pub_links.append(\"https://www.vogue.in\" + link.attrs[\"href\"])\n",
        "pub_links"
      ]
    },
    {
      "cell_type": "code",
      "execution_count": null,
      "metadata": {
        "colab": {
          "base_uri": "https://localhost:8080/"
        },
        "id": "BvKQoxOhLH2c",
        "outputId": "3725dfa9-b71d-413b-f05c-a9d618610cf6"
      },
      "outputs": [
        {
          "output_type": "stream",
          "name": "stdout",
          "text": [
            "<title>The skull Scarf by Alexander McQueen from the noughties is being raised from the dead\n",
            "| Vogue India</title>\n"
          ]
        }
      ],
      "source": [
        "# Investigating what the soup page looks like --> This is always good practice to do with every new web/soup page\n",
        "html_page = requests.get(pub_links[0]).content\n",
        "# Parse the HTML\n",
        "soup_page = soup(html_page, \"html.parser\")\n",
        "# Extract any HTML tag\n",
        "# print(len(soup_page.text),'\\n')\n",
        "# Extracting HTML tags\n",
        "title = soup_page.find('title')\n",
        "print(title)"
      ]
    },
    {
      "cell_type": "markdown",
      "source": [
        "##Extracting Text"
      ],
      "metadata": {
        "id": "igAdK_wmprnE"
      }
    },
    {
      "cell_type": "code",
      "source": [
        "text=soup_page.text"
      ],
      "metadata": {
        "id": "wM6rf5wVL5TO"
      },
      "execution_count": null,
      "outputs": []
    },
    {
      "cell_type": "code",
      "source": [
        "text"
      ],
      "metadata": {
        "colab": {
          "base_uri": "https://localhost:8080/",
          "height": 123
        },
        "id": "iqQPgkZXp_tk",
        "outputId": "c4f30e65-816e-407d-9d60-22df1a137d64"
      },
      "execution_count": null,
      "outputs": [
        {
          "output_type": "execute_result",
          "data": {
            "text/plain": [
              "\"The skull Scarf by Alexander McQueen from the noughties is being raised from the dead\\n| Vogue IndiaSkip to main contentOpen Navigation MenuMenuStory SavedTo revisit this article, visit My Profile, then View saved storiesClose AlertSearchSearchFashionBeautyVogue ClosetCultureHoroscopeWedding WardrobeVideoOpen Navigation MenuMenuStory SavedTo revisit this article, visit My Profile, then View saved storiesClose AlertFashionBrace yourself, the noughties Alexander McQueen skull Scarf is being raised from the deadOnce beloved by the Olsens, Sienna Miller, and Kim Kardashian, the Alexander McQueen skull scarf is making a comebackBy Daniel Rodgers15 August 2023Getty Images, Rabbani and Solimene PhotographyI have seen some of the worst horrors known to mankind on TikTok’s slot machine of a For You Page. Things like “Fart Tok” and NPC streaming and Bold Glamour filters, all of which are unsettling enough to keep me watching and sharing and scrolling in an infinite loop. This has taught me two things: that TikTok’s algorithm will shrink brain cells, and that if you stare into the abyss, the abyss stares back at you. But every so often a new video will surface that replenishes both the soul and the adrenal gland.This week, when I saw evidence of American teenagers rediscovering the Alexander McQueen scarf, it felt like taking a massive drag on a watermelon vape after a period of extended abstinence. “This Alexander McQueen scarf is my new personality trait,” read some block text laid over a hastily-recorded clip of someone using the scarf as a makeshift capuche. “The perks of having a [insert unrepeatable on Vogue expletive] mother,” read the accompanying caption, which suggests the TikToker was perhaps not old enough to have also lived through the Jeffrey Campbell Litas and fedoras of the phenomenon first-time around.Lindsay Lohan.\\nRobin PlatzerSienna Miller.\\nFotos International/Getty ImagesThe scarf debuted during Alexander McQueen’s spring/summer 2003 collection, where models had been styled to look like unwashed pirates and their drowned maidens. There were shredded chiffon gowns and wind-battered leather minis, poet-sleeved blouses and rain-drenched Naval jackets. But it was the rangy and skull-printed scarves that inspired the most devotion, knotted at the side of thick-set belts or twirled around handbag straps with a rakish, picaresque attitude. First among celebs like Kate Moss, the Olsens, Sienna Miller and Ashlee Simpson, and then among people who worked in retail.Despite being in my twenties, I am old enough to remember when this scarf first entered the mainstream and I also remember crowdfunding on BBM to purchase one for a friend’s 18th birthday. I imagine she felt like Blair Waldorf (or perhaps a fifth member of The Libertines) whenever she slung that gossamer status symbol around her shoulders, skulls cascading around a too-tight biker jacket. Paired with an enormous Longchamp and tied into a European loop, it was all about the romance and rebellion of being –\\xa0or looking like – a nihilistic rich kid masking cig smoke with expensive perfume.Kim Kardashian.\\nJean Baptiste LacroixChristina Aguilera.\\nLawrence LucierBut, those who do not learn from history are doomed to repeat it. In preparation for this article, I decided to undertake some quite intensive research – I contacted Depop – and a representative told me the platform has seen a 20 per cent increase in searches for “Alexander McQueen Skull Scarf” in the last two months alone. That, combined with a steady accretion of Google searches might point towards a broader interest in this once-beloved relic of the late Aughts. The main difference is that people are now twisting the scarf into BBL bandeau tops and Babushka hoods and this kind of thing.The threat of a skull scarf resurgence is precisely the kind of thing that thirty-something millennials would baulk at. “Oh dear, I think I’ll be sitting this one out!” they will tweet, with their geotags on. But that also makes it the perfect viral item on TikTok, where multiple eras in fashion are trending simultaneously. There, fashion trends operate on a flat circle, with everything available everywhere all at once. That might give the illusion of an accelerated cycle, but it still takes ten or so years for something to be resuscitated. It will take a little longer to see a full-blown mainstream revival, of course, but the skeleton scarves are nonetheless rising from the grave.This article was first published on vogue.co.ukAlso read:Behind the seams: Inside the NGV’s breathtaking Alexander McQueen exhibition5 things to know about Alexander McQueen’s mushroom-inspired AW22 showHow Mary-Kate and Ashley Olsen master the art of minimalismMost PopularBeautySara Ali Khan has served some major beauty moments—from sublime muted glam to bold high-shine eyes, take notesBy Vogue.inBeautyPriyanka Chopra has served her signature bold beauty look again, take notesBy Vasudha ChananaBeautyVaani Kapoor does it all from HIIT, stretching, weight training, and more for a toned figureBy Vasudha ChananaUpdate MeInspire MeEducate MeALEXANDER MCQUEENFASHION TRENDSRead MoreHow To8 different ways to wear a scarf this winterBy Orla PentelowFashionMoto-style is back, and it's here with more than just the sexy biker chic outfitBy Aranyaa ChowdhuryCulture & LivingA potted history of witches in fashion and cultureBy Hayley MaitlandFashionWhy are celebrities loving second-hand premium fashion right now?By Amy Louise BaileyFacebookInstagramTwitterYouTubeFlipboardPinterestSee more storiesFashionBeautyVogue ClosetHoroscopeVISUAL STORIESMagazineVideoCulture & LifestyleWedding WardrobeForces of FashionDubai: Destination WeddingsDiamond Festival 2022PhotoVogueCondé Nast IndiaADTravelerGQVogueTerms of ServiceContactCareersAdvertisingNewsletterSubscribeDo Not Sell My Personal Info© 2023 Condé Nast. All rights reserved. Use of this website constitutes acceptance of our Terms of Service and Policy and Cookie Statement. The material on this site may not be reproduced, distributed, transmitted, cached or otherwise used, except with the prior written permission of Condé Nast.Select international siteIndiaLargeChevronArabiaAustraliaBrasilBritainChinaCzechoslovakiaEspañaFranceGermanyGreeceHong KongItaliaJapanKoreaMéxicoNederlandPhilippinesPolskaPortugalScandinaviaSingaporeTaiwanThailandTürkiyeUkraineUnited States\""
            ],
            "application/vnd.google.colaboratory.intrinsic+json": {
              "type": "string"
            }
          },
          "metadata": {},
          "execution_count": 81
        }
      ]
    }
  ],
  "metadata": {
    "colab": {
      "provenance": []
    },
    "kernelspec": {
      "display_name": "Python 3",
      "name": "python3"
    },
    "language_info": {
      "name": "python"
    }
  },
  "nbformat": 4,
  "nbformat_minor": 0
}